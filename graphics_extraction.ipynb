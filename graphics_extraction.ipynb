{
 "cells": [
  {
   "cell_type": "code",
   "execution_count": 62,
   "metadata": {},
   "outputs": [],
   "source": [
    "import fitz\n",
    "import csv\n",
    "\n",
    "filename = \"5.-SWIN-UNETR-Paper\"\n",
    "pdf_name = 'pdf/' + filename + \".pdf\"\n",
    "pdf_file = fitz.open(pdf_name)\n",
    "\n",
    "count = 0\n",
    "with open(\"summary/\"+filename+\".csv\", 'w') as csv_file:\n",
    "    csvwriter = csv.writer(csv_file, delimiter=',')\n",
    "    csvwriter.writerow(['S.N.','page_number','x0', 'y0', 'x1', 'y1', 'width', 'height'])\n",
    "\n",
    "    for page_number in range(len(pdf_file)):\n",
    "        page = pdf_file[page_number]\n",
    "        image_count = len(page.get_image_info())\n",
    "        for image in  page.get_image_info():\n",
    "            count+=1\n",
    "            # page.draw_rect(image['bbox'])    # to draw bounding boxes\n",
    "            csvwriter.writerow([count, page_number + 1, *image['bbox'], image['width'], image['height']])\n",
    "# pdf_file.save(\"summary/\"+filename + '.pdf') # to save after drawing bounding boxes"
   ]
  },
  {
   "cell_type": "code",
   "execution_count": null,
   "metadata": {},
   "outputs": [],
   "source": []
  }
 ],
 "metadata": {
  "kernelspec": {
   "display_name": "Python 3",
   "language": "python",
   "name": "python3"
  },
  "language_info": {
   "codemirror_mode": {
    "name": "ipython",
    "version": 3
   },
   "file_extension": ".py",
   "mimetype": "text/x-python",
   "name": "python",
   "nbconvert_exporter": "python",
   "pygments_lexer": "ipython3",
   "version": "3.8.10"
  },
  "orig_nbformat": 4
 },
 "nbformat": 4,
 "nbformat_minor": 2
}
